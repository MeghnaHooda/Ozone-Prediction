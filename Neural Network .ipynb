{
 "cells": [
  {
   "cell_type": "code",
   "execution_count": 31,
   "metadata": {},
   "outputs": [],
   "source": [
    "import numpy as np\n",
    "import pandas as pd\n",
    "import tensorflow\n",
    "import keras\n",
    "from keras.models import Sequential\n",
    "from keras.layers import Dense\n",
    "from sklearn.model_selection import cross_val_score\n",
    "from sklearn.model_selection import KFold\n",
    "from sklearn.preprocessing import MinMaxScaler\n",
    "from sklearn.model_selection import train_test_split\n",
    "import seaborn as sns\n",
    "import matplotlib.pyplot as plt"
   ]
  },
  {
   "cell_type": "code",
   "execution_count": 56,
   "metadata": {},
   "outputs": [
    {
     "name": "stdout",
     "output_type": "stream",
     "text": [
      "<class 'pandas.core.frame.DataFrame'>\n",
      "RangeIndex: 4226 entries, 0 to 4225\n",
      "Data columns (total 11 columns):\n",
      " #   Column     Non-Null Count  Dtype  \n",
      "---  ------     --------------  -----  \n",
      " 0   From Date  4226 non-null   object \n",
      " 1   To Date    4226 non-null   object \n",
      " 2   Temp       4226 non-null   float64\n",
      " 3   Ozone      4226 non-null   float64\n",
      " 4   NO2        4226 non-null   float64\n",
      " 5   AT         4226 non-null   float64\n",
      " 6   RH         4226 non-null   float64\n",
      " 7   WS         4226 non-null   float64\n",
      " 8   WD         4226 non-null   float64\n",
      " 9   SR         4226 non-null   float64\n",
      " 10  BP         4226 non-null   float64\n",
      "dtypes: float64(9), object(2)\n",
      "memory usage: 363.3+ KB\n"
     ]
    }
   ],
   "source": [
    "df = pd.read_excel('4hourlty_finaldataset.xlsx')\n",
    "df.head()\n",
    "df.info()"
   ]
  },
  {
   "cell_type": "code",
   "execution_count": 57,
   "metadata": {},
   "outputs": [],
   "source": [
    "def handle_non_numerical_data(df):\n",
    "    columns = df.columns.values\n",
    "    \n",
    "    for column in columns:\n",
    "        text_digit_vals = {} \n",
    "        def convert_to_int(val):\n",
    "            return text_digit_vals[val]\n",
    "        \n",
    "        if df[column].dtype != np.int64 and df[column].dtype != np.float64:\n",
    "            column_contents = df[column].values.tolist()\n",
    "            unique_elements = set(column_contents)\n",
    "            x=0\n",
    "            for unique in unique_elements:\n",
    "                if unique not in text_digit_vals:\n",
    "                    text_digit_vals[unique] = x\n",
    "                    x = x + 1\n",
    "            \n",
    "            df[column] = list(map(convert_to_int, df[column]))\n",
    "    \n",
    "    return df"
   ]
  },
  {
   "cell_type": "code",
   "execution_count": 58,
   "metadata": {},
   "outputs": [],
   "source": [
    "df = handle_non_numerical_data(df)"
   ]
  },
  {
   "cell_type": "code",
   "execution_count": 59,
   "metadata": {},
   "outputs": [
    {
     "data": {
      "text/html": [
       "<div>\n",
       "<style scoped>\n",
       "    .dataframe tbody tr th:only-of-type {\n",
       "        vertical-align: middle;\n",
       "    }\n",
       "\n",
       "    .dataframe tbody tr th {\n",
       "        vertical-align: top;\n",
       "    }\n",
       "\n",
       "    .dataframe thead th {\n",
       "        text-align: right;\n",
       "    }\n",
       "</style>\n",
       "<table border=\"1\" class=\"dataframe\">\n",
       "  <thead>\n",
       "    <tr style=\"text-align: right;\">\n",
       "      <th></th>\n",
       "      <th>From Date</th>\n",
       "      <th>To Date</th>\n",
       "      <th>Temp</th>\n",
       "      <th>Ozone</th>\n",
       "      <th>NO2</th>\n",
       "      <th>AT</th>\n",
       "      <th>RH</th>\n",
       "      <th>WS</th>\n",
       "      <th>WD</th>\n",
       "      <th>SR</th>\n",
       "      <th>BP</th>\n",
       "    </tr>\n",
       "  </thead>\n",
       "  <tbody>\n",
       "    <tr>\n",
       "      <th>0</th>\n",
       "      <td>2077</td>\n",
       "      <td>1783</td>\n",
       "      <td>31.28</td>\n",
       "      <td>19.66</td>\n",
       "      <td>50.76</td>\n",
       "      <td>11.64</td>\n",
       "      <td>94.62</td>\n",
       "      <td>0.81</td>\n",
       "      <td>131.44</td>\n",
       "      <td>12.75</td>\n",
       "      <td>750.94</td>\n",
       "    </tr>\n",
       "    <tr>\n",
       "      <th>1</th>\n",
       "      <td>1779</td>\n",
       "      <td>1681</td>\n",
       "      <td>30.17</td>\n",
       "      <td>24.11</td>\n",
       "      <td>36.36</td>\n",
       "      <td>11.09</td>\n",
       "      <td>95.50</td>\n",
       "      <td>0.64</td>\n",
       "      <td>145.25</td>\n",
       "      <td>11.81</td>\n",
       "      <td>750.88</td>\n",
       "    </tr>\n",
       "    <tr>\n",
       "      <th>2</th>\n",
       "      <td>1676</td>\n",
       "      <td>1800</td>\n",
       "      <td>28.89</td>\n",
       "      <td>15.12</td>\n",
       "      <td>50.54</td>\n",
       "      <td>13.06</td>\n",
       "      <td>94.94</td>\n",
       "      <td>0.88</td>\n",
       "      <td>192.62</td>\n",
       "      <td>135.25</td>\n",
       "      <td>753.38</td>\n",
       "    </tr>\n",
       "    <tr>\n",
       "      <th>3</th>\n",
       "      <td>1796</td>\n",
       "      <td>1826</td>\n",
       "      <td>29.30</td>\n",
       "      <td>17.69</td>\n",
       "      <td>65.05</td>\n",
       "      <td>16.03</td>\n",
       "      <td>83.56</td>\n",
       "      <td>1.90</td>\n",
       "      <td>108.62</td>\n",
       "      <td>221.56</td>\n",
       "      <td>750.94</td>\n",
       "    </tr>\n",
       "    <tr>\n",
       "      <th>4</th>\n",
       "      <td>1822</td>\n",
       "      <td>316</td>\n",
       "      <td>28.68</td>\n",
       "      <td>16.93</td>\n",
       "      <td>68.42</td>\n",
       "      <td>13.23</td>\n",
       "      <td>89.56</td>\n",
       "      <td>1.27</td>\n",
       "      <td>93.19</td>\n",
       "      <td>10.31</td>\n",
       "      <td>750.56</td>\n",
       "    </tr>\n",
       "  </tbody>\n",
       "</table>\n",
       "</div>"
      ],
      "text/plain": [
       "   From Date  To Date   Temp  Ozone    NO2     AT     RH    WS      WD  \\\n",
       "0       2077     1783  31.28  19.66  50.76  11.64  94.62  0.81  131.44   \n",
       "1       1779     1681  30.17  24.11  36.36  11.09  95.50  0.64  145.25   \n",
       "2       1676     1800  28.89  15.12  50.54  13.06  94.94  0.88  192.62   \n",
       "3       1796     1826  29.30  17.69  65.05  16.03  83.56  1.90  108.62   \n",
       "4       1822      316  28.68  16.93  68.42  13.23  89.56  1.27   93.19   \n",
       "\n",
       "       SR      BP  \n",
       "0   12.75  750.94  \n",
       "1   11.81  750.88  \n",
       "2  135.25  753.38  \n",
       "3  221.56  750.94  \n",
       "4   10.31  750.56  "
      ]
     },
     "execution_count": 59,
     "metadata": {},
     "output_type": "execute_result"
    }
   ],
   "source": [
    "df.head()"
   ]
  },
  {
   "cell_type": "code",
   "execution_count": 60,
   "metadata": {},
   "outputs": [],
   "source": [
    "# def remove_outlier(df_in, col_name):\n",
    "#     q1 = df_in[col_name].quantile(0.25)\n",
    "#     q3 = df_in[col_name].quantile(0.75)\n",
    "#     iqr = q3-q1\n",
    "#     fence_low  = q1-1.5*iqr\n",
    "#     fence_high = q3+1.5*iqr\n",
    "#     df_out = df_in.loc[(df_in[col_name] > fence_low) & (df_in[col_name] < fence_high)]\n",
    "#     return df_out"
   ]
  },
  {
   "cell_type": "code",
   "execution_count": 9,
   "metadata": {
    "collapsed": true
   },
   "outputs": [],
   "source": [
    "#df = remove_outlier(df, 'FAREAMT_BC')"
   ]
  },
  {
   "cell_type": "code",
   "execution_count": 61,
   "metadata": {},
   "outputs": [],
   "source": [
    "X = df.drop(['From Date','To Date','Temp'], axis=1)\n",
    "y = df['Ozone']"
   ]
  },
  {
   "cell_type": "code",
   "execution_count": 62,
   "metadata": {},
   "outputs": [],
   "source": [
    "scaler = MinMaxScaler()\n",
    "X = scaler.fit_transform(X)\n",
    "#X"
   ]
  },
  {
   "cell_type": "code",
   "execution_count": 63,
   "metadata": {},
   "outputs": [],
   "source": [
    "#y = df['FAREAMT_BC'].values"
   ]
  },
  {
   "cell_type": "code",
   "execution_count": 64,
   "metadata": {},
   "outputs": [],
   "source": [
    "x_train, x_test, y_train, y_test = train_test_split(X, y, test_size=0.1, random_state=123)"
   ]
  },
  {
   "cell_type": "code",
   "execution_count": 65,
   "metadata": {},
   "outputs": [],
   "source": [
    "model = Sequential()\n",
    "model.add(Dense(600, input_dim=8, kernel_initializer='normal', activation='relu'))\n",
    "model.add(Dense(400, kernel_initializer='normal', activation='relu'))\n",
    "model.add(Dense(1, kernel_initializer='normal'))\n",
    "model.compile(loss='mean_squared_error', optimizer='adam')"
   ]
  },
  {
   "cell_type": "code",
   "execution_count": 67,
   "metadata": {},
   "outputs": [
    {
     "name": "stdout",
     "output_type": "stream",
     "text": [
      "Epoch 1/100\n",
      "3803/3803 [==============================] - 4s 1ms/step - loss: 0.0043\n",
      "Epoch 2/100\n",
      "3803/3803 [==============================] - 5s 1ms/step - loss: 0.0078\n",
      "Epoch 3/100\n",
      "3803/3803 [==============================] - 4s 1ms/step - loss: 0.0031\n",
      "Epoch 4/100\n",
      "3803/3803 [==============================] - 4s 1ms/step - loss: 0.0142\n",
      "Epoch 5/100\n",
      "3803/3803 [==============================] - 5s 1ms/step - loss: 0.0052\n",
      "Epoch 6/100\n",
      "3803/3803 [==============================] - 5s 1ms/step - loss: 0.0048\n",
      "Epoch 7/100\n",
      "3803/3803 [==============================] - 4s 1ms/step - loss: 0.0030\n",
      "Epoch 8/100\n",
      "3803/3803 [==============================] - 6s 2ms/step - loss: 0.0032\n",
      "Epoch 9/100\n",
      "3803/3803 [==============================] - 6s 1ms/step - loss: 0.0170\n",
      "Epoch 10/100\n",
      "3803/3803 [==============================] - 4s 1ms/step - loss: 0.0025\n",
      "Epoch 11/100\n",
      "3803/3803 [==============================] - 5s 1ms/step - loss: 0.0045\n",
      "Epoch 12/100\n",
      "3803/3803 [==============================] - 5s 1ms/step - loss: 0.0361\n",
      "Epoch 13/100\n",
      "3803/3803 [==============================] - 4s 1ms/step - loss: 0.0088\n",
      "Epoch 14/100\n",
      "3803/3803 [==============================] - 4s 1ms/step - loss: 0.0036\n",
      "Epoch 15/100\n",
      "3803/3803 [==============================] - 3s 908us/step - loss: 0.0086\n",
      "Epoch 16/100\n",
      "3803/3803 [==============================] - 3s 905us/step - loss: 0.0116\n",
      "Epoch 17/100\n",
      "3803/3803 [==============================] - 3s 869us/step - loss: 0.0199\n",
      "Epoch 18/100\n",
      "3803/3803 [==============================] - 3s 890us/step - loss: 0.0210 0s - los\n",
      "Epoch 19/100\n",
      "3803/3803 [==============================] - 4s 1ms/step - loss: 0.0052\n",
      "Epoch 20/100\n",
      "3803/3803 [==============================] - 5s 1ms/step - loss: 0.0214\n",
      "Epoch 21/100\n",
      "3803/3803 [==============================] - 4s 1ms/step - loss: 0.0012\n",
      "Epoch 22/100\n",
      "3803/3803 [==============================] - 4s 1ms/step - loss: 0.0134\n",
      "Epoch 23/100\n",
      "3803/3803 [==============================] - 4s 1ms/step - loss: 0.0172\n",
      "Epoch 24/100\n",
      "3803/3803 [==============================] - 4s 975us/step - loss: 0.0155\n",
      "Epoch 25/100\n",
      "3803/3803 [==============================] - 4s 949us/step - loss: 0.0039\n",
      "Epoch 26/100\n",
      "3803/3803 [==============================] - 4s 921us/step - loss: 0.0088\n",
      "Epoch 27/100\n",
      "3803/3803 [==============================] - 4s 921us/step - loss: 0.0180\n",
      "Epoch 28/100\n",
      "3803/3803 [==============================] - 4s 954us/step - loss: 0.0063\n",
      "Epoch 29/100\n",
      "3803/3803 [==============================] - 4s 963us/step - loss: 0.0148\n",
      "Epoch 30/100\n",
      "3803/3803 [==============================] - 4s 948us/step - loss: 0.0385\n",
      "Epoch 31/100\n",
      "3803/3803 [==============================] - 3s 912us/step - loss: 0.0072\n",
      "Epoch 32/100\n",
      "3803/3803 [==============================] - 4s 937us/step - loss: 0.0027\n",
      "Epoch 33/100\n",
      "3803/3803 [==============================] - 4s 942us/step - loss: 0.0165\n",
      "Epoch 34/100\n",
      "3803/3803 [==============================] - 4s 942us/step - loss: 0.0115\n",
      "Epoch 35/100\n",
      "3803/3803 [==============================] - 3s 917us/step - loss: 0.0157\n",
      "Epoch 36/100\n",
      "3803/3803 [==============================] - 3s 916us/step - loss: 0.0045\n",
      "Epoch 37/100\n",
      "3803/3803 [==============================] - 3s 916us/step - loss: 0.0522\n",
      "Epoch 38/100\n",
      "3803/3803 [==============================] - 3s 873us/step - loss: 0.1148\n",
      "Epoch 39/100\n",
      "3803/3803 [==============================] - 3s 886us/step - loss: 0.0081\n",
      "Epoch 40/100\n",
      "3803/3803 [==============================] - 4s 1ms/step - loss: 0.0023\n",
      "Epoch 41/100\n",
      "3803/3803 [==============================] - 3s 871us/step - loss: 9.7717e-04\n",
      "Epoch 42/100\n",
      "3803/3803 [==============================] - 3s 851us/step - loss: 0.0016\n",
      "Epoch 43/100\n",
      "3803/3803 [==============================] - 4s 921us/step - loss: 5.8715e-04\n",
      "Epoch 44/100\n",
      "3803/3803 [==============================] - 3s 858us/step - loss: 0.0063\n",
      "Epoch 45/100\n",
      "3803/3803 [==============================] - 3s 839us/step - loss: 0.0017\n",
      "Epoch 46/100\n",
      "3803/3803 [==============================] - 3s 842us/step - loss: 0.0225\n",
      "Epoch 47/100\n",
      "3803/3803 [==============================] - 3s 858us/step - loss: 0.0028 0s\n",
      "Epoch 48/100\n",
      "3803/3803 [==============================] - 3s 864us/step - loss: 0.0296\n",
      "Epoch 49/100\n",
      "3803/3803 [==============================] - 3s 789us/step - loss: 0.0586\n",
      "Epoch 50/100\n",
      "3803/3803 [==============================] - 3s 846us/step - loss: 0.0179\n",
      "Epoch 51/100\n",
      "3803/3803 [==============================] - 3s 843us/step - loss: 6.9886e-04\n",
      "Epoch 52/100\n",
      "3803/3803 [==============================] - 3s 813us/step - loss: 0.0024\n",
      "Epoch 53/100\n",
      "3803/3803 [==============================] - 3s 871us/step - loss: 0.0015\n",
      "Epoch 54/100\n",
      "3803/3803 [==============================] - 4s 943us/step - loss: 0.0069\n",
      "Epoch 55/100\n",
      "3803/3803 [==============================] - 5s 1ms/step - loss: 0.0070\n",
      "Epoch 56/100\n",
      "3803/3803 [==============================] - 4s 1ms/step - loss: 0.0451\n",
      "Epoch 57/100\n",
      "3803/3803 [==============================] - 4s 1ms/step - loss: 0.0591\n",
      "Epoch 58/100\n",
      "3803/3803 [==============================] - 4s 1ms/step - loss: 0.0079\n",
      "Epoch 59/100\n",
      "3803/3803 [==============================] - 4s 1ms/step - loss: 0.0013\n",
      "Epoch 60/100\n",
      "3803/3803 [==============================] - 4s 1ms/step - loss: 8.8843e-04\n",
      "Epoch 61/100\n",
      "3803/3803 [==============================] - 4s 989us/step - loss: 0.0012 0s - lo\n",
      "Epoch 62/100\n",
      "3803/3803 [==============================] - 4s 1ms/step - loss: 0.0019\n",
      "Epoch 63/100\n",
      "3803/3803 [==============================] - 4s 990us/step - loss: 0.0373\n",
      "Epoch 64/100\n",
      "3803/3803 [==============================] - 4s 1ms/step - loss: 0.0540\n",
      "Epoch 65/100\n",
      "3803/3803 [==============================] - 4s 1ms/step - loss: 0.0053\n",
      "Epoch 66/100\n",
      "3803/3803 [==============================] - 4s 1ms/step - loss: 8.0539e-04\n",
      "Epoch 67/100\n",
      "3803/3803 [==============================] - 4s 1ms/step - loss: 0.0031\n",
      "Epoch 68/100\n",
      "3803/3803 [==============================] - 4s 963us/step - loss: 0.0092\n",
      "Epoch 69/100\n",
      "3803/3803 [==============================] - 4s 1ms/step - loss: 0.0207\n",
      "Epoch 70/100\n",
      "3803/3803 [==============================] - 4s 1ms/step - loss: 0.0220\n",
      "Epoch 71/100\n",
      "3803/3803 [==============================] - 4s 987us/step - loss: 0.0059\n",
      "Epoch 72/100\n",
      "3803/3803 [==============================] - 4s 943us/step - loss: 0.0073\n",
      "Epoch 73/100\n",
      "3803/3803 [==============================] - 4s 960us/step - loss: 0.0167\n",
      "Epoch 74/100\n",
      "3803/3803 [==============================] - 4s 1ms/step - loss: 0.0259\n",
      "Epoch 75/100\n",
      "3803/3803 [==============================] - 4s 947us/step - loss: 0.0082\n",
      "Epoch 76/100\n",
      "3803/3803 [==============================] - 4s 923us/step - loss: 0.1340\n",
      "Epoch 77/100\n",
      "3803/3803 [==============================] - 4s 950us/step - loss: 0.0027\n",
      "Epoch 78/100\n",
      "3803/3803 [==============================] - 4s 947us/step - loss: 9.0160e-04\n",
      "Epoch 79/100\n",
      "3803/3803 [==============================] - 4s 970us/step - loss: 5.8650e-04\n",
      "Epoch 80/100\n",
      "3803/3803 [==============================] - 4s 934us/step - loss: 7.0759e-04\n",
      "Epoch 81/100\n",
      "3803/3803 [==============================] - 4s 926us/step - loss: 4.8593e-04\n",
      "Epoch 82/100\n",
      "3803/3803 [==============================] - 4s 963us/step - loss: 0.0066\n",
      "Epoch 83/100\n",
      "3803/3803 [==============================] - 4s 970us/step - loss: 0.0012\n",
      "Epoch 84/100\n",
      "3803/3803 [==============================] - 4s 949us/step - loss: 0.0058\n",
      "Epoch 85/100\n",
      "3803/3803 [==============================] - 4s 973us/step - loss: 0.0400\n",
      "Epoch 86/100\n",
      "3803/3803 [==============================] - 4s 960us/step - loss: 0.0044\n",
      "Epoch 87/100\n",
      "3803/3803 [==============================] - 3s 906us/step - loss: 0.0059\n",
      "Epoch 88/100\n",
      "3803/3803 [==============================] - 4s 975us/step - loss: 0.0051\n",
      "Epoch 89/100\n",
      "3803/3803 [==============================] - 4s 978us/step - loss: 0.0119\n",
      "Epoch 90/100\n",
      "3803/3803 [==============================] - 4s 971us/step - loss: 0.0176\n",
      "Epoch 91/100\n",
      "3803/3803 [==============================] - 4s 965us/step - loss: 0.0176\n",
      "Epoch 92/100\n",
      "3803/3803 [==============================] - 4s 962us/step - loss: 0.0388\n",
      "Epoch 93/100\n",
      "3803/3803 [==============================] - 4s 973us/step - loss: 0.0023\n",
      "Epoch 94/100\n",
      "3803/3803 [==============================] - 4s 966us/step - loss: 0.0032\n",
      "Epoch 95/100\n"
     ]
    },
    {
     "name": "stdout",
     "output_type": "stream",
     "text": [
      "3803/3803 [==============================] - 4s 1ms/step - loss: 0.0018\n",
      "Epoch 96/100\n",
      "3803/3803 [==============================] - 5s 1ms/step - loss: 0.2147\n",
      "Epoch 97/100\n",
      "3803/3803 [==============================] - 5s 1ms/step - loss: 0.0171\n",
      "Epoch 98/100\n",
      "3803/3803 [==============================] - 5s 1ms/step - loss: 9.2513e-04\n",
      "Epoch 99/100\n",
      "3803/3803 [==============================] - 5s 1ms/step - loss: 4.8989e-04A: 0s - loss: \n",
      "Epoch 100/100\n",
      "3803/3803 [==============================] - 5s 1ms/step - loss: 2.8663e-04\n"
     ]
    }
   ],
   "source": [
    "modeldata = model.fit(x_train, y_train, epochs=100, batch_size=50)\n",
    "model.save(\"model_4.h5\")"
   ]
  },
  {
   "cell_type": "code",
   "execution_count": 37,
   "metadata": {},
   "outputs": [],
   "source": [
    "#from keras.models import load_model\n",
    "#model = load_model('model_3.h5')"
   ]
  },
  {
   "cell_type": "code",
   "execution_count": 68,
   "metadata": {},
   "outputs": [
    {
     "name": "stdout",
     "output_type": "stream",
     "text": [
      "423/423 [==============================] - 0s 941us/step\n"
     ]
    }
   ],
   "source": [
    "results = model.evaluate(x_test, y_test, verbose=1)"
   ]
  },
  {
   "cell_type": "code",
   "execution_count": 69,
   "metadata": {},
   "outputs": [
    {
     "data": {
      "text/plain": [
       "0.0004170876466519151"
      ]
     },
     "execution_count": 69,
     "metadata": {},
     "output_type": "execute_result"
    }
   ],
   "source": [
    "results"
   ]
  },
  {
   "cell_type": "code",
   "execution_count": 70,
   "metadata": {},
   "outputs": [],
   "source": [
    "# kfold = KFold(n_splits=10, shuffle=True, random_state=123)\n",
    "# cvresults = []\n",
    "# for train, test in kfold.split(X, y):\n",
    "#     model.fit(X[train], y[train], epochs=500, batch_size=30, verbose=1)\n",
    "#     results = model.evaluate(X[test], y[test], verbose=1)\n",
    "#     cvresults.append(results)\n",
    "# model.save(\"model_4_improved.h5\")"
   ]
  },
  {
   "cell_type": "code",
   "execution_count": 71,
   "metadata": {},
   "outputs": [],
   "source": [
    "# cvresults"
   ]
  },
  {
   "cell_type": "code",
   "execution_count": 72,
   "metadata": {
    "scrolled": true
   },
   "outputs": [],
   "source": [
    "# results = model.evaluate(x_test, y_test, verbose=1)"
   ]
  },
  {
   "cell_type": "code",
   "execution_count": 73,
   "metadata": {},
   "outputs": [],
   "source": [
    "# results"
   ]
  },
  {
   "cell_type": "code",
   "execution_count": 74,
   "metadata": {},
   "outputs": [
    {
     "name": "stdout",
     "output_type": "stream",
     "text": [
      "MAE:  0.013417607458488955\n",
      "MSE:  0.000417092868521509\n"
     ]
    }
   ],
   "source": [
    "from sklearn.metrics import mean_squared_error, mean_absolute_error\n",
    "y_pred = model.predict(x_test)\n",
    "print(\"MAE: \", mean_absolute_error(y_test, y_pred))\n",
    "print(\"MSE: \", mean_squared_error(y_test, y_pred))"
   ]
  },
  {
   "cell_type": "code",
   "execution_count": 75,
   "metadata": {},
   "outputs": [
    {
     "data": {
      "image/png": "[encoded data removed]",
      "text/plain": [
       "<Figure size 432x288 with 1 Axes>"
      ]
     },
     "metadata": {
      "needs_background": "light"
     },
     "output_type": "display_data"
    },
    {
     "data": {
      "text/plain": [
       "<Figure size 1280x1280 with 0 Axes>"
      ]
     },
     "metadata": {},
     "output_type": "display_data"
    }
   ],
   "source": [
    "x = [i for i in range(len(y_test))]\n",
    "plt.scatter(x, y_test, label='test', alpha=1)\n",
    "plt.scatter(x, y_pred, label='test predictions', color='red', alpha=0.2)\n",
    "plt.legend(bbox_to_anchor=(0., 1.02, 1., .102), loc=3,\n",
    "           ncol=2, mode=\"expand\", borderaxespad=0.4)\n",
    "plt.figure(figsize=(16, 16), dpi=80)\n",
    "plt.show()"
   ]
  },
  {
   "cell_type": "code",
   "execution_count": null,
   "metadata": {
    "collapsed": true
   },
   "outputs": [],
   "source": []
  }
 ],
 "metadata": {
  "kernelspec": {
   "display_name": "Python 3",
   "language": "python",
   "name": "python3"
  },
  "language_info": {
   "codemirror_mode": {
    "name": "ipython",
    "version": 3
   },
   "file_extension": ".py",
   "mimetype": "text/x-python",
   "name": "python",
   "nbconvert_exporter": "python",
   "pygments_lexer": "ipython3",
   "version": "3.6.8"
  }
 },
 "nbformat": 4,
 "nbformat_minor": 2
}
